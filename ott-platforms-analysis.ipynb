{
 "cells": [
  {
   "cell_type": "markdown",
   "metadata": {
    "papermill": {
     "duration": 0.022542,
     "end_time": "2020-12-12T13:55:46.123664",
     "exception": false,
     "start_time": "2020-12-12T13:55:46.101122",
     "status": "completed"
    },
    "tags": []
   },
   "source": [
    "# Movie analysis on OTT platforms \n",
    "> This notebook contain various plots and visuals justifying variation in movies on OTT platforms like Amazon Prime, Netflix, Hulu and Disney+. This notebook also demonstrates the type movies produced and their strengths in drawing viewers. Direct relationships have been drawn with the various other features like Rotten Tomatoes rating, Generes, etc. and all have been demonstrated in plots and have been axplained. "
   ]
  },
  {
   "cell_type": "markdown",
   "metadata": {
    "papermill": {
     "duration": 0.017151,
     "end_time": "2020-12-12T13:55:46.159585",
     "exception": false,
     "start_time": "2020-12-12T13:55:46.142434",
     "status": "completed"
    },
    "tags": []
   },
   "source": [
    "* ***Project name:*** OTT Platforms Analysis\n",
    "* ***Data link:*** [Click here](http://../input/movies-on-netflix-prime-video-hulu-and-disney)\n",
    "* ***Notebook owner:*** [Adipta Biswas](http://www.linkedin.com/in/adipta-biswas-adiptabiswas/)\n",
    "* ***Project type:*** ED Analysis"
   ]
  },
  {
   "cell_type": "markdown",
   "metadata": {
    "papermill": {
     "duration": 0.017426,
     "end_time": "2020-12-12T13:55:46.194777",
     "exception": false,
     "start_time": "2020-12-12T13:55:46.177351",
     "status": "completed"
    },
    "tags": []
   },
   "source": [
    "![OTT platforms](http://hackernoon.com/drafts/wg1pd33jc.png)"
   ]
  },
  {
   "cell_type": "markdown",
   "metadata": {
    "papermill": {
     "duration": 0.017045,
     "end_time": "2020-12-12T13:55:46.229479",
     "exception": false,
     "start_time": "2020-12-12T13:55:46.212434",
     "status": "completed"
    },
    "tags": []
   },
   "source": [
    "## Summary \n",
    "> The provided data has **16744 rows** and **16 columns**. There are two features **\"Age\"** and **\"Rotten Tomatoes\"**\n",
    "with **NULL** values  **>50%** of the available data points. There are **5** columns which are of **Integer** data-type, **6** of **Object** type and the rest are of **Float** type. The data set contains data ranging from **1900** to the year **2020**.\n",
    "\n",
    "> The Data consists of **4** major OTT platforms: **\"Netflix\"**, **\"Hulu\"**, **\"Prime videos\"** and **\"Disney+\"**. The columns: **\"IMDb\"** and **\"Rotten Tomatoes\"** are to be considered as an **Interval** data of type **Numeric**. Some of the columns like **\"Year\"** and **\"Age\"** need to **binned**. for further analysis.  "
   ]
  },
  {
   "cell_type": "code",
   "execution_count": 1,
   "metadata": {
    "_cell_guid": "e2f70708-10b1-4e4a-b213-67ec86738024",
    "_kg_hide-input": true,
    "_kg_hide-output": false,
    "_uuid": "d53c250b-16fb-41fb-8f61-9fe2d30865b9",
    "execution": {
     "iopub.execute_input": "2020-12-12T13:55:46.279422Z",
     "iopub.status.busy": "2020-12-12T13:55:46.278537Z",
     "iopub.status.idle": "2020-12-12T13:55:47.634121Z",
     "shell.execute_reply": "2020-12-12T13:55:47.634803Z"
    },
    "papermill": {
     "duration": 1.388155,
     "end_time": "2020-12-12T13:55:47.635128",
     "exception": false,
     "start_time": "2020-12-12T13:55:46.246973",
     "status": "completed"
    },
    "tags": []
   },
   "outputs": [
    {
     "data": {
      "text/html": [
       "<table border=\"1\" class=\"dataframe\">\n",
       "  <thead>\n",
       "    <tr style=\"text-align: right;\">\n",
       "      <th></th>\n",
       "      <th>ID</th>\n",
       "      <th>Title</th>\n",
       "      <th>Year</th>\n",
       "      <th>Age</th>\n",
       "      <th>IMDb</th>\n",
       "      <th>Rotten Tomatoes</th>\n",
       "      <th>Netflix</th>\n",
       "      <th>Hulu</th>\n",
       "      <th>Prime Video</th>\n",
       "      <th>Disney+</th>\n",
       "      <th>Type</th>\n",
       "      <th>Directors</th>\n",
       "      <th>Genres</th>\n",
       "      <th>Country</th>\n",
       "      <th>Language</th>\n",
       "      <th>Runtime</th>\n",
       "    </tr>\n",
       "  </thead>\n",
       "  <tbody>\n",
       "    <tr>\n",
       "      <th>0</th>\n",
       "      <td>1</td>\n",
       "      <td>Inception</td>\n",
       "      <td>2010</td>\n",
       "      <td>13+</td>\n",
       "      <td>8.8</td>\n",
       "      <td>87%</td>\n",
       "      <td>1</td>\n",
       "      <td>0</td>\n",
       "      <td>0</td>\n",
       "      <td>0</td>\n",
       "      <td>0</td>\n",
       "      <td>Christopher Nolan</td>\n",
       "      <td>Action,Adventure,Sci-Fi,Thriller</td>\n",
       "      <td>United States,United Kingdom</td>\n",
       "      <td>English,Japanese,French</td>\n",
       "      <td>148.0</td>\n",
       "    </tr>\n",
       "    <tr>\n",
       "      <th>1</th>\n",
       "      <td>2</td>\n",
       "      <td>The Matrix</td>\n",
       "      <td>1999</td>\n",
       "      <td>18+</td>\n",
       "      <td>8.7</td>\n",
       "      <td>87%</td>\n",
       "      <td>1</td>\n",
       "      <td>0</td>\n",
       "      <td>0</td>\n",
       "      <td>0</td>\n",
       "      <td>0</td>\n",
       "      <td>Lana Wachowski,Lilly Wachowski</td>\n",
       "      <td>Action,Sci-Fi</td>\n",
       "      <td>United States</td>\n",
       "      <td>English</td>\n",
       "      <td>136.0</td>\n",
       "    </tr>\n",
       "    <tr>\n",
       "      <th>2</th>\n",
       "      <td>3</td>\n",
       "      <td>Avengers: Infinity War</td>\n",
       "      <td>2018</td>\n",
       "      <td>13+</td>\n",
       "      <td>8.5</td>\n",
       "      <td>84%</td>\n",
       "      <td>1</td>\n",
       "      <td>0</td>\n",
       "      <td>0</td>\n",
       "      <td>0</td>\n",
       "      <td>0</td>\n",
       "      <td>Anthony Russo,Joe Russo</td>\n",
       "      <td>Action,Adventure,Sci-Fi</td>\n",
       "      <td>United States</td>\n",
       "      <td>English</td>\n",
       "      <td>149.0</td>\n",
       "    </tr>\n",
       "    <tr>\n",
       "      <th>3</th>\n",
       "      <td>4</td>\n",
       "      <td>Back to the Future</td>\n",
       "      <td>1985</td>\n",
       "      <td>7+</td>\n",
       "      <td>8.5</td>\n",
       "      <td>96%</td>\n",
       "      <td>1</td>\n",
       "      <td>0</td>\n",
       "      <td>0</td>\n",
       "      <td>0</td>\n",
       "      <td>0</td>\n",
       "      <td>Robert Zemeckis</td>\n",
       "      <td>Adventure,Comedy,Sci-Fi</td>\n",
       "      <td>United States</td>\n",
       "      <td>English</td>\n",
       "      <td>116.0</td>\n",
       "    </tr>\n",
       "    <tr>\n",
       "      <th>4</th>\n",
       "      <td>5</td>\n",
       "      <td>The Good, the Bad and the Ugly</td>\n",
       "      <td>1966</td>\n",
       "      <td>18+</td>\n",
       "      <td>8.8</td>\n",
       "      <td>97%</td>\n",
       "      <td>1</td>\n",
       "      <td>0</td>\n",
       "      <td>1</td>\n",
       "      <td>0</td>\n",
       "      <td>0</td>\n",
       "      <td>Sergio Leone</td>\n",
       "      <td>Western</td>\n",
       "      <td>Italy,Spain,West Germany</td>\n",
       "      <td>Italian</td>\n",
       "      <td>161.0</td>\n",
       "    </tr>\n",
       "    <tr>\n",
       "      <th>5</th>\n",
       "      <td>6</td>\n",
       "      <td>Spider-Man: Into the Spider-Verse</td>\n",
       "      <td>2018</td>\n",
       "      <td>7+</td>\n",
       "      <td>8.4</td>\n",
       "      <td>97%</td>\n",
       "      <td>1</td>\n",
       "      <td>0</td>\n",
       "      <td>0</td>\n",
       "      <td>0</td>\n",
       "      <td>0</td>\n",
       "      <td>Bob Persichetti,Peter Ramsey,Rodney Rothman</td>\n",
       "      <td>Animation,Action,Adventure,Family,Sci-Fi</td>\n",
       "      <td>United States</td>\n",
       "      <td>English,Spanish</td>\n",
       "      <td>117.0</td>\n",
       "    </tr>\n",
       "    <tr>\n",
       "      <th>6</th>\n",
       "      <td>7</td>\n",
       "      <td>The Pianist</td>\n",
       "      <td>2002</td>\n",
       "      <td>18+</td>\n",
       "      <td>8.5</td>\n",
       "      <td>95%</td>\n",
       "      <td>1</td>\n",
       "      <td>0</td>\n",
       "      <td>1</td>\n",
       "      <td>0</td>\n",
       "      <td>0</td>\n",
       "      <td>Roman Polanski</td>\n",
       "      <td>Biography,Drama,Music,War</td>\n",
       "      <td>United Kingdom,France,Poland,Germany</td>\n",
       "      <td>English,German,Russian</td>\n",
       "      <td>150.0</td>\n",
       "    </tr>\n",
       "    <tr>\n",
       "      <th>7</th>\n",
       "      <td>8</td>\n",
       "      <td>Django Unchained</td>\n",
       "      <td>2012</td>\n",
       "      <td>18+</td>\n",
       "      <td>8.4</td>\n",
       "      <td>87%</td>\n",
       "      <td>1</td>\n",
       "      <td>0</td>\n",
       "      <td>0</td>\n",
       "      <td>0</td>\n",
       "      <td>0</td>\n",
       "      <td>Quentin Tarantino</td>\n",
       "      <td>Drama,Western</td>\n",
       "      <td>United States</td>\n",
       "      <td>English,German,French,Italian</td>\n",
       "      <td>165.0</td>\n",
       "    </tr>\n",
       "    <tr>\n",
       "      <th>8</th>\n",
       "      <td>9</td>\n",
       "      <td>Raiders of the Lost Ark</td>\n",
       "      <td>1981</td>\n",
       "      <td>7+</td>\n",
       "      <td>8.4</td>\n",
       "      <td>95%</td>\n",
       "      <td>1</td>\n",
       "      <td>0</td>\n",
       "      <td>0</td>\n",
       "      <td>0</td>\n",
       "      <td>0</td>\n",
       "      <td>Steven Spielberg</td>\n",
       "      <td>Action,Adventure</td>\n",
       "      <td>United States</td>\n",
       "      <td>English,German,Hebrew,Spanish,Arabic,Nepali</td>\n",
       "      <td>115.0</td>\n",
       "    </tr>\n",
       "    <tr>\n",
       "      <th>9</th>\n",
       "      <td>10</td>\n",
       "      <td>Inglourious Basterds</td>\n",
       "      <td>2009</td>\n",
       "      <td>18+</td>\n",
       "      <td>8.3</td>\n",
       "      <td>89%</td>\n",
       "      <td>1</td>\n",
       "      <td>0</td>\n",
       "      <td>0</td>\n",
       "      <td>0</td>\n",
       "      <td>0</td>\n",
       "      <td>Quentin Tarantino</td>\n",
       "      <td>Adventure,Drama,War</td>\n",
       "      <td>Germany,United States</td>\n",
       "      <td>English,German,French,Italian</td>\n",
       "      <td>153.0</td>\n",
       "    </tr>\n",
       "  </tbody>\n",
       "</table>"
      ],
      "text/plain": [
       "<IPython.core.display.HTML object>"
      ]
     },
     "execution_count": 1,
     "metadata": {},
     "output_type": "execute_result"
    }
   ],
   "source": [
    "import pandas as pd\n",
    "import numpy as np\n",
    "import matplotlib.pyplot as plt\n",
    "import seaborn as sns\n",
    "from scipy import stats\n",
    "%matplotlib inline\n",
    "import matplotlib.pyplot as plt\n",
    "from IPython.display import HTML\n",
    "\n",
    "main_df = pd.read_csv(\"../input/movies-on-netflix-prime-video-hulu-and-disney/MoviesOnStreamingPlatforms_updated.csv\")\n",
    "list_of_columns = [list(main_df.columns)] # Define columns\n",
    "main_df.drop(columns = \"Unnamed: 0\", inplace = True)\n",
    "main_df_show = main_df.head(10)\n",
    "HTML(main_df_show.to_html(escape=False))"
   ]
  },
  {
   "cell_type": "markdown",
   "metadata": {
    "papermill": {
     "duration": 0.01856,
     "end_time": "2020-12-12T13:55:47.675023",
     "exception": false,
     "start_time": "2020-12-12T13:55:47.656463",
     "status": "completed"
    },
    "tags": []
   },
   "source": [
    "## Analysis and observations\n",
    "> **(There were a lot of missing points in the data set. An analysis has been done excluding those point)**\n",
    "\n",
    "> * As per the available data, the **\"Prime video\"** has the *highest* number movies followed by **\"Netflix\"**. **\"Disney+\"** has the *lowest* number of movies casted.\n",
    "> *  *Most* of the movies produced were **\"Drama\"** followed by **\"Comedy\"**. Almost *negligible* number of movies produced were of **\"Game-Show\"** genre.\n",
    "> * The number of movies released under the genres **\"Reality-TV\"**, **\"Talk-Show\"**, **\"Film-Noire\"** and **\"News\"** were a lot *less* as compared to other genres.\n",
    "> * The number of movies produced throughout under **\"Musical\"** and **\"Short\"** genres were almost *similar*.\n",
    "> * As there were a large number of missing data, after removing those values it is seen that *most* of the movies prduced had **\"Rotten Tomatoes\"** rating **>81%** followed by **61% - 80%**. The *least* number of movies produced had **<20%**. \n",
    "> * *Most* of the movies released were of age group **18+**. The *least* number of movies produced were of age group **16+**.\n",
    "> * *Majority* of the movies were released between **2000 and 2020**. The least number of movies released were between **1900 and 1900**.\n",
    "> * According to the data, it is seen that the *frequency* of **movie production** *increased* along with an *increase* in **Year**. They both exhibit a positive correlation. \n",
    "> * *Majority* of the movies has an **IMDb** rating ranging between **5-6** followed by **7-8**. \n",
    "> * The *least* number of movies got an IMDb rating between **9-10**. \n",
    "> * On the basis of given data, we can say that majority of the movies in these 4 OTT platforms are *average* or *more than average* **IMDb** rated. "
   ]
  },
  {
   "cell_type": "code",
   "execution_count": 2,
   "metadata": {
    "_cell_guid": "512e7879-8f59-423e-ad39-80b34ddb3954",
    "_kg_hide-input": true,
    "_kg_hide-output": true,
    "_uuid": "14228023-31cc-4a73-9d3a-200e3f729acd",
    "execution": {
     "iopub.execute_input": "2020-12-12T13:55:47.725287Z",
     "iopub.status.busy": "2020-12-12T13:55:47.723733Z",
     "iopub.status.idle": "2020-12-12T13:55:47.757932Z",
     "shell.execute_reply": "2020-12-12T13:55:47.756890Z"
    },
    "papermill": {
     "duration": 0.064329,
     "end_time": "2020-12-12T13:55:47.758149",
     "exception": false,
     "start_time": "2020-12-12T13:55:47.693820",
     "status": "completed"
    },
    "tags": []
   },
   "outputs": [
    {
     "name": "stdout",
     "output_type": "stream",
     "text": [
      "Year -> int64\n",
      "Age -> object\n",
      "IMDb -> float64\n",
      "Rotten Tomatoes -> object\n",
      "Netflix -> int64\n",
      "Hulu -> int64\n",
      "Prime Video -> int64\n",
      "Disney+ -> int64\n",
      "Directors -> object\n",
      "Genres -> object\n",
      "Country -> object\n",
      "Language -> object\n",
      "Runtime -> float64\n"
     ]
    }
   ],
   "source": [
    "df = main_df\n",
    "df.drop(columns = \"ID\", inplace = True)\n",
    "df.drop(columns = \"Type\", inplace = True)\n",
    "\n",
    "def cols(df_col):\n",
    "    for c in df_col:\n",
    "        if c != \"Title\":\n",
    "            print(\"{} -> {}\".format(c, df[c].dtype))\n",
    "cols(df.columns.to_list())\n",
    "\n",
    "df[\"Runtime\"] = df[\"Runtime\"].apply(lambda x: x//60)"
   ]
  },
  {
   "cell_type": "code",
   "execution_count": 3,
   "metadata": {
    "_cell_guid": "10664a03-99f4-4a1a-9b0d-fc5120b1e623",
    "_kg_hide-input": true,
    "_kg_hide-output": true,
    "_uuid": "4871fdc2-c034-46f2-8ba5-04a5541ebb31",
    "execution": {
     "iopub.execute_input": "2020-12-12T13:55:47.821842Z",
     "iopub.status.busy": "2020-12-12T13:55:47.820928Z",
     "iopub.status.idle": "2020-12-12T13:55:47.825529Z",
     "shell.execute_reply": "2020-12-12T13:55:47.824650Z"
    },
    "papermill": {
     "duration": 0.047352,
     "end_time": "2020-12-12T13:55:47.825685",
     "exception": false,
     "start_time": "2020-12-12T13:55:47.778333",
     "status": "completed"
    },
    "tags": []
   },
   "outputs": [
    {
     "name": "stdout",
     "output_type": "stream",
     "text": [
      "\"NA values in %ge\"\n",
      "\n",
      "Year -> 0.0%\n",
      "\n",
      "Age -> 56.08%\n",
      "\n",
      "IMDb -> 3.41%\n",
      "\n",
      "Rotten Tomatoes -> 69.19%\n",
      "\n",
      "Netflix -> 0.0%\n",
      "\n",
      "Hulu -> 0.0%\n",
      "\n",
      "Prime Video -> 0.0%\n",
      "\n",
      "Disney+ -> 0.0%\n",
      "\n",
      "Genres -> 1.64%\n",
      "\n",
      "Country -> 2.6%\n",
      "\n",
      "Language -> 3.58%\n",
      "\n",
      "Runtime -> 3.54%\n",
      "\n"
     ]
    }
   ],
   "source": [
    "def vals(cols):\n",
    "    print(\"\\\"NA values in %ge\\\"\\n\")\n",
    "    for c in cols:\n",
    "        if c not in [\"Title\", \"Directors\"]:\n",
    "            print(\"{} -> {}%\\n\".format(c, round(100*(df[c].isna().sum()/len(df)),2)))\n",
    "vals(df.columns.to_list())"
   ]
  },
  {
   "cell_type": "code",
   "execution_count": 4,
   "metadata": {
    "_cell_guid": "e6e67924-eb45-42aa-aa24-8129c99f830a",
    "_kg_hide-input": true,
    "_kg_hide-output": true,
    "_uuid": "561d89fb-29ad-4ad4-9634-d4f2b642b1de",
    "execution": {
     "iopub.execute_input": "2020-12-12T13:55:47.901643Z",
     "iopub.status.busy": "2020-12-12T13:55:47.896215Z",
     "iopub.status.idle": "2020-12-12T13:57:32.596307Z",
     "shell.execute_reply": "2020-12-12T13:57:32.597252Z"
    },
    "papermill": {
     "duration": 104.751491,
     "end_time": "2020-12-12T13:57:32.597579",
     "exception": false,
     "start_time": "2020-12-12T13:55:47.846088",
     "status": "completed"
    },
    "tags": []
   },
   "outputs": [
    {
     "name": "stderr",
     "output_type": "stream",
     "text": [
      "/opt/conda/lib/python3.7/site-packages/ipykernel_launcher.py:12: SettingWithCopyWarning: \n",
      "A value is trying to be set on a copy of a slice from a DataFrame\n",
      "\n",
      "See the caveats in the documentation: https://pandas.pydata.org/pandas-docs/stable/user_guide/indexing.html#returning-a-view-versus-a-copy\n",
      "  if sys.path[0] == '':\n",
      "/opt/conda/lib/python3.7/site-packages/ipykernel_launcher.py:27: SettingWithCopyWarning: \n",
      "A value is trying to be set on a copy of a slice from a DataFrame\n",
      "\n",
      "See the caveats in the documentation: https://pandas.pydata.org/pandas-docs/stable/user_guide/indexing.html#returning-a-view-versus-a-copy\n",
      "/opt/conda/lib/python3.7/site-packages/pandas/core/indexing.py:670: SettingWithCopyWarning: \n",
      "A value is trying to be set on a copy of a slice from a DataFrame\n",
      "\n",
      "See the caveats in the documentation: https://pandas.pydata.org/pandas-docs/stable/user_guide/indexing.html#returning-a-view-versus-a-copy\n",
      "  iloc._setitem_with_indexer(indexer, value)\n",
      "/opt/conda/lib/python3.7/site-packages/ipykernel_launcher.py:41: SettingWithCopyWarning: \n",
      "A value is trying to be set on a copy of a slice from a DataFrame.\n",
      "Try using .loc[row_indexer,col_indexer] = value instead\n",
      "\n",
      "See the caveats in the documentation: https://pandas.pydata.org/pandas-docs/stable/user_guide/indexing.html#returning-a-view-versus-a-copy\n"
     ]
    }
   ],
   "source": [
    "df[\"Year\"] = df[\"Year\"].astype(int)\n",
    "df[\"Year_Bin\"] = df[\"Year\"].apply(lambda x: \"1919-1900\" if x >= 1900 and x <= 1919 else \"1939-1920\" \n",
    "                                  if x >= 1920 and x <= 1939 else \"1959 - 1940\" if x >= 1940 and x <= 1959\n",
    "                                  else \"1979-1960\" if x >= 1960 and x <= 1979 else \"1999-1980\" if x >= 1980 \n",
    "                                  and x <= 1999 else \"2020-2000\")\n",
    "\n",
    "df[\"Rotten Tomatoes\"] = df[\"Rotten Tomatoes\"].fillna(\"NA\")\n",
    "df[\"Rotten Tomatoes\"] = df[\"Rotten Tomatoes\"].apply(lambda x: x.strip(\"%\"))\n",
    "\n",
    "for row in df[\"Rotten Tomatoes\"]:\n",
    "    if row != \"NA\":\n",
    "        df[\"Rotten Tomatoes\"][row] = int(row)\n",
    "\n",
    "df_tomatoes = df[\"Rotten Tomatoes\"]\n",
    "df_tomatoes.replace(\"NA\", np.nan, inplace = True)\n",
    "df_tomatoes.dropna(inplace = True)\n",
    "\n",
    "df_tomatoes = df_tomatoes.astype(int)\n",
    "df_tomatoes = df_tomatoes.apply(lambda x: \"<20%\" if x >= 0 and x < 20 else \"20%-40%\" \n",
    "                                if x >= 20 and x <= 40 else \"41%60%\" if x >= 41 and x <= 60\n",
    "                                else \"61%-80%\" if x >= 61 and x <= 80 else \">81%\")\n",
    "\n",
    "df[\"IMDb\"] = df[\"IMDb\"].fillna(\"NA\")\n",
    "\n",
    "for row in df[\"IMDb\"]:\n",
    "    if row != \"NA\":\n",
    "        df[\"IMDb\"][row] = float(row)\n",
    "\n",
    "df_imdb = df[\"IMDb\"]\n",
    "df_imdb.replace(\"NA\", np.nan, inplace = True)\n",
    "df_imdb.dropna(inplace = True)\n",
    "\n",
    "df_imdb = df_imdb.astype(float)\n",
    "df_imdb = df_imdb.apply(lambda x: \"<2\" if x >= 0.0 and x < 3.0 else \"3-4\" \n",
    "                                if x >= 3.0 and x < 5.0 else \"5-6\" if x >= 5.0 and x < 7.0\n",
    "                                else \"7-8\" if x >= 7.0 and x < 9 else \">9\")\n",
    "\n",
    "df_chan = df[[\"Netflix\", \"Hulu\", \"Prime Video\", \"Disney+\"]]\n",
    "\n",
    "def dfchan(dfcol):\n",
    "    df_chan[dfcol] = df_chan[dfcol].apply(lambda x: dfcol if x == 1 else \"NA\")\n",
    "for col in df_chan.columns:\n",
    "    dfchan(col)"
   ]
  },
  {
   "cell_type": "code",
   "execution_count": 5,
   "metadata": {
    "_cell_guid": "60272ce4-f933-4aaa-bc96-463e82a4ded9",
    "_kg_hide-input": true,
    "_kg_hide-output": true,
    "_uuid": "cfb09b5e-b455-4757-b098-32f43e33f0cd",
    "execution": {
     "iopub.execute_input": "2020-12-12T13:57:32.663265Z",
     "iopub.status.busy": "2020-12-12T13:57:32.647618Z",
     "iopub.status.idle": "2020-12-12T13:57:32.689620Z",
     "shell.execute_reply": "2020-12-12T13:57:32.688829Z"
    },
    "papermill": {
     "duration": 0.071401,
     "end_time": "2020-12-12T13:57:32.689746",
     "exception": false,
     "start_time": "2020-12-12T13:57:32.618345",
     "status": "completed"
    },
    "tags": []
   },
   "outputs": [],
   "source": [
    "Netflix_Count = 0\n",
    "Other_Netflix_Count = 0\n",
    "for row in df_chan[\"Netflix\"].to_list():\n",
    "    if row == \"Netflix\":\n",
    "        Netflix_Count += 1\n",
    "    elif row == \"NA\":\n",
    "        Other_Netflix_Count += 1\n",
    "    else:\n",
    "        continue\n",
    "        \n",
    "Hulu_Count = 0\n",
    "Other_Hulu_Count = 0\n",
    "for row in df_chan[\"Hulu\"].to_list():\n",
    "    if row == \"Hulu\":\n",
    "        Hulu_Count += 1\n",
    "    elif row == \"NA\":\n",
    "        Other_Hulu_Count += 1\n",
    "    else:\n",
    "        continue\n",
    "        \n",
    "Prime_Video_Count = 0\n",
    "Other_Prime_Video_Count = 0\n",
    "for row in df_chan[\"Prime Video\"].to_list():\n",
    "    if row == \"Prime Video\":\n",
    "        Prime_Video_Count += 1\n",
    "    elif row == \"NA\":\n",
    "        Other_Prime_Video_Count += 1\n",
    "    else:\n",
    "        continue\n",
    "        \n",
    "Disney_Count = 0\n",
    "Other_Disney_Count = 0\n",
    "for row in df_chan[\"Disney+\"].to_list():\n",
    "    if row == \"Disney+\":\n",
    "        Disney_Count += 1\n",
    "    elif row == \"NA\":\n",
    "        Other_Disney_Count += 1\n",
    "    else:\n",
    "        continue\n",
    "        \n",
    "genre_col = df[\"Genres\"]\n",
    "genre_col.dropna(inplace = True)\n",
    "genre_col = [i.split(\",\") for i in genre_col]"
   ]
  },
  {
   "cell_type": "code",
   "execution_count": 6,
   "metadata": {
    "_cell_guid": "2251d858-3ec3-458e-90da-5d1924a7cc8d",
    "_kg_hide-input": true,
    "_kg_hide-output": true,
    "_uuid": "4eb994a1-c7db-4ec5-bd57-b95c8efb34a9",
    "execution": {
     "iopub.execute_input": "2020-12-12T13:57:32.756713Z",
     "iopub.status.busy": "2020-12-12T13:57:32.740940Z",
     "iopub.status.idle": "2020-12-12T13:57:32.817821Z",
     "shell.execute_reply": "2020-12-12T13:57:32.817190Z"
    },
    "papermill": {
     "duration": 0.107126,
     "end_time": "2020-12-12T13:57:32.817955",
     "exception": false,
     "start_time": "2020-12-12T13:57:32.710829",
     "status": "completed"
    },
    "tags": []
   },
   "outputs": [
    {
     "name": "stdout",
     "output_type": "stream",
     "text": [
      "Genre Frequency -> {'Action': 2683, 'Adventure': 1778, 'Sci-Fi': 1228, 'Thriller': 3354, 'Comedy': 4637, 'Western': 499, 'Animation': 711, 'Family': 1514, 'Biography': 821, 'Drama': 7227, 'Music': 667, 'War': 539, 'Crime': 1833, 'Fantasy': 1089, 'Romance': 2359, 'History': 715, 'Mystery': 1274, 'Horror': 2201, 'Sport': 404, 'Documentary': 2546, 'Musical': 401, 'News': 105, 'Short': 386, 'Reality-TV': 22, 'Talk-Show': 19, 'Game-Show': 7, 'Film-Noir': 79}\n",
      "\n",
      "Channel Frequency -> {'Netflix': 3560, 'Hulu': 903, 'Prime Video': 12354, 'Disney+': 564}\n"
     ]
    }
   ],
   "source": [
    "# Genre frequency\n",
    "genre_freq_dict, genre_freq_key_ls = {}, []\n",
    "for row in genre_col:\n",
    "    for _row in row:\n",
    "        if _row not in genre_freq_key_ls:\n",
    "            genre_freq_key_ls.append(_row)\n",
    "            genre_freq_dict[_row] = 1\n",
    "        else:\n",
    "            counter = genre_freq_dict[_row]\n",
    "            genre_freq_dict[_row] = counter + 1\n",
    "print(\"Genre Frequency ->\", genre_freq_dict)\n",
    "\n",
    "# Channel frequency\n",
    "channel_freq_dict, channel_freq_key_ls = {}, []\n",
    "channel_ls = [\"Netflix\", \"Hulu\", \"Prime Video\", \"Disney+\"]\n",
    "for channel in channel_ls:\n",
    "    for _row in df[channel]:\n",
    "        if int(_row) == 1:\n",
    "            if channel not in channel_freq_key_ls:\n",
    "                channel_freq_key_ls.append(channel)\n",
    "                channel_freq_dict[channel] = 1\n",
    "            else:\n",
    "                counter = channel_freq_dict[channel]\n",
    "                channel_freq_dict[channel] = counter + 1\n",
    "print()\n",
    "print(\"Channel Frequency ->\", channel_freq_dict)"
   ]
  },
  {
   "cell_type": "markdown",
   "metadata": {
    "_cell_guid": "9635b537-f775-4a9a-bbba-71b819c22836",
    "_uuid": "0ca19a74-f121-47e1-b881-954005026fbb",
    "papermill": {
     "duration": 0.021629,
     "end_time": "2020-12-12T13:57:32.861154",
     "exception": false,
     "start_time": "2020-12-12T13:57:32.839525",
     "status": "completed"
    },
    "tags": []
   },
   "source": [
    "### Visuals and Analysis"
   ]
  },
  {
   "cell_type": "code",
   "execution_count": 7,
   "metadata": {
    "_cell_guid": "6d727880-ee29-4d43-abc9-b71ce118480c",
    "_kg_hide-input": true,
    "_uuid": "a3577837-f2b5-4806-b3b9-865f35979791",
    "execution": {
     "iopub.execute_input": "2020-12-12T13:57:32.910739Z",
     "iopub.status.busy": "2020-12-12T13:57:32.910003Z",
     "iopub.status.idle": "2020-12-12T13:57:33.154658Z",
     "shell.execute_reply": "2020-12-12T13:57:33.155285Z"
    },
    "papermill": {
     "duration": 0.272867,
     "end_time": "2020-12-12T13:57:33.155445",
     "exception": false,
     "start_time": "2020-12-12T13:57:32.882578",
     "status": "completed"
    },
    "tags": []
   },
   "outputs": [
    {
     "data": {
      "text/plain": [
       "Text(0, 0.5, 'No. of movies')"
      ]
     },
     "execution_count": 7,
     "metadata": {},
     "output_type": "execute_result"
    },
    {
     "data": {
      "image/png": "[encoded data removed]",
      "text/plain": [
       "<Figure size 432x288 with 1 Axes>"
      ]
     },
     "metadata": {
      "needs_background": "light"
     },
     "output_type": "display_data"
    }
   ],
   "source": [
    "df['Year_Bin'].hist(grid=False, xlabelsize=8, ylabelsize=12, color = \"brown\")\n",
    "plt.xlabel(\"Release year\", fontsize=15)\n",
    "plt.ylabel(\"No. of movies\",fontsize=15)"
   ]
  },
  {
   "cell_type": "markdown",
   "metadata": {
    "_cell_guid": "ea38c829-bac2-4978-bf83-32410d23e61e",
    "_uuid": "c088521f-f586-4556-a8af-2f4cd77ca04a",
    "papermill": {
     "duration": 0.022754,
     "end_time": "2020-12-12T13:57:33.201349",
     "exception": false,
     "start_time": "2020-12-12T13:57:33.178595",
     "status": "completed"
    },
    "tags": []
   },
   "source": [
    "* Maximum movies were released between 2000 and 2020\n",
    "* Minimum movies were released between 1900 and 1900\n",
    "* The frequency of movie production increases along with an increase in year"
   ]
  },
  {
   "cell_type": "code",
   "execution_count": 8,
   "metadata": {
    "_cell_guid": "f70973ec-7f7a-45ef-ace8-dc94cb021aac",
    "_kg_hide-input": true,
    "_uuid": "da19d9b4-13ce-4643-a05d-c6151fab54b5",
    "execution": {
     "iopub.execute_input": "2020-12-12T13:57:33.261209Z",
     "iopub.status.busy": "2020-12-12T13:57:33.260050Z",
     "iopub.status.idle": "2020-12-12T13:57:33.523625Z",
     "shell.execute_reply": "2020-12-12T13:57:33.522928Z"
    },
    "papermill": {
     "duration": 0.299307,
     "end_time": "2020-12-12T13:57:33.523751",
     "exception": false,
     "start_time": "2020-12-12T13:57:33.224444",
     "status": "completed"
    },
    "tags": []
   },
   "outputs": [
    {
     "data": {
      "text/plain": [
       "Text(0, 0.5, 'No. of movies')"
      ]
     },
     "execution_count": 8,
     "metadata": {},
     "output_type": "execute_result"
    },
    {
     "data": {
      "image/png": "[encoded data removed]",
      "text/plain": [
       "<Figure size 432x288 with 1 Axes>"
      ]
     },
     "metadata": {
      "needs_background": "light"
     },
     "output_type": "display_data"
    }
   ],
   "source": [
    "df['Age'].hist(grid=False, xlabelsize=12, ylabelsize=12, color = \"lime\")\n",
    "plt.xlabel(\"Age restriction group\", fontsize=15)\n",
    "plt.ylabel(\"No. of movies\",fontsize=15)"
   ]
  },
  {
   "cell_type": "markdown",
   "metadata": {
    "_cell_guid": "2f3b2bb0-2d8b-48c9-b901-7ea2f31b8794",
    "_uuid": "f4744c9b-9d18-483c-a2d2-5d2f3ee35e96",
    "papermill": {
     "duration": 0.023908,
     "end_time": "2020-12-12T13:57:33.574026",
     "exception": false,
     "start_time": "2020-12-12T13:57:33.550118",
     "status": "completed"
    },
    "tags": []
   },
   "source": [
    "* Most of the movies released were 18+\n",
    "* The least number of movies produced are 16+"
   ]
  },
  {
   "cell_type": "code",
   "execution_count": 9,
   "metadata": {
    "_cell_guid": "d8a3e733-519a-4d62-850e-ae48a62043f1",
    "_kg_hide-input": true,
    "_uuid": "15333d5d-c421-49a7-a3d1-c686d8e770d0",
    "execution": {
     "iopub.execute_input": "2020-12-12T13:57:33.635262Z",
     "iopub.status.busy": "2020-12-12T13:57:33.634409Z",
     "iopub.status.idle": "2020-12-12T13:57:33.799549Z",
     "shell.execute_reply": "2020-12-12T13:57:33.798750Z"
    },
    "papermill": {
     "duration": 0.201231,
     "end_time": "2020-12-12T13:57:33.799680",
     "exception": false,
     "start_time": "2020-12-12T13:57:33.598449",
     "status": "completed"
    },
    "tags": []
   },
   "outputs": [
    {
     "data": {
      "text/plain": [
       "Text(0, 0.5, 'No. of movies')"
      ]
     },
     "execution_count": 9,
     "metadata": {},
     "output_type": "execute_result"
    },
    {
     "data": {
      "image/png": "[encoded data removed]",
      "text/plain": [
       "<Figure size 432x288 with 1 Axes>"
      ]
     },
     "metadata": {
      "needs_background": "light"
     },
     "output_type": "display_data"
    }
   ],
   "source": [
    "df_tomatoes.hist(grid=False, xlabelsize=12, ylabelsize=12, color = \"red\")\n",
    "plt.xlabel(\"Rotten Tomatoes\", fontsize=15)\n",
    "plt.ylabel(\"No. of movies\",fontsize=15)"
   ]
  },
  {
   "cell_type": "markdown",
   "metadata": {
    "_cell_guid": "b7a378da-5058-4332-9b0a-a7ca8874b7ea",
    "_uuid": "259e1771-a6c4-46de-b09f-72aa5bd2f67e",
    "papermill": {
     "duration": 0.025936,
     "end_time": "2020-12-12T13:57:33.851743",
     "exception": false,
     "start_time": "2020-12-12T13:57:33.825807",
     "status": "completed"
    },
    "tags": []
   },
   "source": [
    "* Most of the movies prduced had Rotten Tomatoes rating more than 81% followed by 61% - 80%\n",
    "* The least number of movies produced had Rotten Tomatoes rating less than 20%"
   ]
  },
  {
   "cell_type": "code",
   "execution_count": 10,
   "metadata": {
    "execution": {
     "iopub.execute_input": "2020-12-12T13:57:33.917613Z",
     "iopub.status.busy": "2020-12-12T13:57:33.916493Z",
     "iopub.status.idle": "2020-12-12T13:57:34.073265Z",
     "shell.execute_reply": "2020-12-12T13:57:34.072510Z"
    },
    "papermill": {
     "duration": 0.195023,
     "end_time": "2020-12-12T13:57:34.073390",
     "exception": false,
     "start_time": "2020-12-12T13:57:33.878367",
     "status": "completed"
    },
    "tags": []
   },
   "outputs": [
    {
     "data": {
      "text/plain": [
       "Text(0, 0.5, 'No. of movies')"
      ]
     },
     "execution_count": 10,
     "metadata": {},
     "output_type": "execute_result"
    },
    {
     "data": {
      "image/png": "[encoded data removed]",
      "text/plain": [
       "<Figure size 432x288 with 1 Axes>"
      ]
     },
     "metadata": {
      "needs_background": "light"
     },
     "output_type": "display_data"
    }
   ],
   "source": [
    "df_imdb.hist(grid=False, xlabelsize=12, ylabelsize=12, color = \"blue\")\n",
    "plt.xlabel(\"IMDb\", fontsize=15)\n",
    "plt.ylabel(\"No. of movies\",fontsize=15)"
   ]
  },
  {
   "cell_type": "markdown",
   "metadata": {
    "papermill": {
     "duration": 0.027275,
     "end_time": "2020-12-12T13:57:34.128943",
     "exception": false,
     "start_time": "2020-12-12T13:57:34.101668",
     "status": "completed"
    },
    "tags": []
   },
   "source": [
    "* Majority of the movies had an IMDb rating between 5-6\n",
    "* The least number of movies had rating more or equal to 9\n",
    "* The second highest peak in rating ranges between 7-8, followed by 3-5"
   ]
  },
  {
   "cell_type": "code",
   "execution_count": 11,
   "metadata": {
    "_cell_guid": "3310da67-56c1-4f64-a3a2-a2e54f87fc1c",
    "_kg_hide-input": true,
    "_uuid": "d1b60d3e-5dfc-4ea8-829c-40b757348d01",
    "execution": {
     "iopub.execute_input": "2020-12-12T13:57:34.201681Z",
     "iopub.status.busy": "2020-12-12T13:57:34.199985Z",
     "iopub.status.idle": "2020-12-12T13:57:34.487965Z",
     "shell.execute_reply": "2020-12-12T13:57:34.488579Z"
    },
    "papermill": {
     "duration": 0.332214,
     "end_time": "2020-12-12T13:57:34.488736",
     "exception": false,
     "start_time": "2020-12-12T13:57:34.156522",
     "status": "completed"
    },
    "tags": []
   },
   "outputs": [
    {
     "data": {
      "image/png": "[encoded data removed]",
      "text/plain": [
       "<Figure size 432x288 with 1 Axes>"
      ]
     },
     "metadata": {
      "needs_background": "light"
     },
     "output_type": "display_data"
    }
   ],
   "source": [
    "x_ax = [k for k in genre_freq_dict.keys()]\n",
    "y_ax = [k for k in genre_freq_dict.values()]\n",
    "fig = plt.figure()\n",
    "ax = fig.add_axes([0,0,1,1])\n",
    "genre = x_ax\n",
    "freq = y_ax\n",
    "ax.bar(genre,freq, color = \"purple\")\n",
    "plt.xticks(rotation='vertical')\n",
    "plt.xticks(size = 12)\n",
    "plt.yticks(size = 12)\n",
    "ax.set_ylabel('No. of movies', size = 15)\n",
    "ax.set_title('No. of movies vs. Genres', size = 15)\n",
    "plt.show()"
   ]
  },
  {
   "cell_type": "markdown",
   "metadata": {
    "_cell_guid": "3dd98053-5c0c-43f0-9209-ac5f4867e975",
    "_uuid": "2017552f-566b-47bf-8796-371d4dcfa35f",
    "papermill": {
     "duration": 0.028512,
     "end_time": "2020-12-12T13:57:34.546296",
     "exception": false,
     "start_time": "2020-12-12T13:57:34.517784",
     "status": "completed"
    },
    "tags": []
   },
   "source": [
    "* Maximum number of movies produced were \"Drama\" followed by \"Comedy\" genre\n",
    "* Almost negligible number of movies produced were of \"Game-Show\" genre\n",
    "* The number of movies released under \"Reality-TV\", \"Talk-Show\", \"Film-Noire\" and \"News\" genres were a lot less as compared to other genres\n",
    "* The number of movies produced throughout under \"Musical\" and \"Short\" genres were almost similar"
   ]
  },
  {
   "cell_type": "code",
   "execution_count": 12,
   "metadata": {
    "_cell_guid": "5d2f033d-19e2-4389-903c-62a97ee88b7a",
    "_kg_hide-input": true,
    "_uuid": "fbbfe0fa-843f-45e4-800e-f757e4553955",
    "execution": {
     "iopub.execute_input": "2020-12-12T13:57:34.614638Z",
     "iopub.status.busy": "2020-12-12T13:57:34.613502Z",
     "iopub.status.idle": "2020-12-12T13:57:34.759801Z",
     "shell.execute_reply": "2020-12-12T13:57:34.759089Z"
    },
    "papermill": {
     "duration": 0.184838,
     "end_time": "2020-12-12T13:57:34.759931",
     "exception": false,
     "start_time": "2020-12-12T13:57:34.575093",
     "status": "completed"
    },
    "tags": []
   },
   "outputs": [
    {
     "data": {
      "image/png": "[encoded data removed]",
      "text/plain": [
       "<Figure size 432x288 with 1 Axes>"
      ]
     },
     "metadata": {
      "needs_background": "light"
     },
     "output_type": "display_data"
    }
   ],
   "source": [
    "x_aax = [k for k in channel_freq_dict.keys()]\n",
    "y_aax = [k for k in channel_freq_dict.values()]\n",
    "fig = plt.figure()\n",
    "ax = fig.add_axes([0,0,1,1])\n",
    "channel = x_aax\n",
    "freq = y_aax\n",
    "ax.bar(channel,freq, color = \"orange\")\n",
    "plt.xticks(rotation='horizontal')\n",
    "plt.xticks(size = 12)\n",
    "plt.yticks(size = 12)\n",
    "ax.set_ylabel('No. of movies', size = 15)\n",
    "ax.set_title('No. of movies vs. OTT platforms', size = 15)\n",
    "plt.show()"
   ]
  },
  {
   "cell_type": "markdown",
   "metadata": {
    "_cell_guid": "c514db52-9b87-4fbc-be54-e9439583a963",
    "_uuid": "34aed283-da22-4adf-99f3-78b1ea2f5e83",
    "papermill": {
     "duration": 0.02953,
     "end_time": "2020-12-12T13:57:34.819405",
     "exception": false,
     "start_time": "2020-12-12T13:57:34.789875",
     "status": "completed"
    },
    "tags": []
   },
   "source": [
    "* Prime Video had the highest number of movies in it as an OTT platform\n",
    "* Disney+ had the lowest number of movies as compared to the other streaming service"
   ]
  }
 ],
 "metadata": {
  "kernelspec": {
   "display_name": "Python 3",
   "language": "python",
   "name": "python3"
  },
  "language_info": {
   "codemirror_mode": {
    "name": "ipython",
    "version": 3
   },
   "file_extension": ".py",
   "mimetype": "text/x-python",
   "name": "python",
   "nbconvert_exporter": "python",
   "pygments_lexer": "ipython3",
   "version": "3.7.6"
  },
  "papermill": {
   "duration": 114.98008,
   "end_time": "2020-12-12T13:57:35.953247",
   "environment_variables": {},
   "exception": null,
   "input_path": "__notebook__.ipynb",
   "output_path": "__notebook__.ipynb",
   "parameters": {},
   "start_time": "2020-12-12T13:55:40.973167",
   "version": "2.1.0"
  }
 },
 "nbformat": 4,
 "nbformat_minor": 4
}
